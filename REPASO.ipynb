{
 "cells": [
  {
   "cell_type": "markdown",
   "id": "cf450e3a",
   "metadata": {},
   "source": [
    "# 📊 Clase Previa: Trabajando con Archivos CSV y XLSX en Python\n",
    "### 🎯 Objetivos de Hoy:\n",
    "1. Aprender a cargar archivos CSV y Excel (XLSX)\n",
    "2. Explorar y entender nuestros datos\n",
    "3. Seleccionar y filtrar información\n",
    "4. Crear visualizaciones básicas"
   ]
  },
  {
   "cell_type": "markdown",
   "id": "2f74b10e",
   "metadata": {},
   "source": [
    "## 📚 Parte 1: Importar las Librerías Necesarias\n",
    "\n",
    "Primero, necesitamos importar las herramientas que vamos a usar:"
   ]
  },
  {
   "cell_type": "markdown",
   "id": "4a941c62",
   "metadata": {},
   "source": [
    "### 📦 Instalación de Librerías\n",
    "\n",
    "**¿Qué es uv?** Gestor de paquetes moderno (10-100x más rápido que pip), escrito en Rust.  \n",
    "**Antes se usaba:** `pip install` (gestor tradicional de Python, más lento).\n",
    "\n",
    "#### Paso 1: Instalar uv (solo una vez)\n",
    "```bash\n",
    "pip install uv\n",
    "```\n",
    "\n",
    "#### Paso 2: Instalar las librerías con uv\n",
    "Para instalar las librerías necesarias, ejecuta en tu terminal (una por una):\n",
    "\n",
    "```bash\n",
    "uv add pandas\n",
    "uv add matplotlib\n",
    "uv add numpy\n",
    "uv add openpyxl\n",
    "```\n",
    "\n",
    "O si prefieres instalarlas todas de una vez:\n",
    "```bash\n",
    "uv add pandas matplotlib numpy openpyxl\n",
    "```"
   ]
  },
  {
   "cell_type": "code",
   "execution_count": 108,
   "id": "b9454569",
   "metadata": {},
   "outputs": [
    {
     "name": "stdout",
     "output_type": "stream",
     "text": [
      "✅ Librerías importadas correctamente\n"
     ]
    }
   ],
   "source": [
    "# Importar las librerías necesarias\n",
    "import pandas as pd  # Para trabajar con datos en tablas (CSV, Excel)\n",
    "import matplotlib.pyplot as plt  # Para crear gráficos\n",
    "import numpy as np  # Para operaciones matemáticas\n",
    "\n",
    "print(\"✅ Librerías importadas correctamente\")\n"
   ]
  },
  {
   "cell_type": "code",
   "execution_count": null,
   "id": "1d3879d9",
   "metadata": {},
   "outputs": [
    {
     "name": "stdout",
     "output_type": "stream",
     "text": [
      "1.26.4\n"
     ]
    }
   ],
   "source": [
    "import pandas as pd\n",
    "print(np.__version__)\n"
   ]
  },
  {
   "cell_type": "markdown",
   "id": "8d949530",
   "metadata": {},
   "source": [
    "## 📂 Parte 2: Cargar Archivos CSV y XLSX\n",
    "\n",
    "Vamos a trabajar con datos reales del SENAMHI (Servicio Nacional de Meteorología e Hidrología del Perú)\n",
    "\n",
    "### 🔹 Diferencias principales:\n",
    "- **CSV**: Archivo de texto plano separado por comas (`,`) u otro delimitador\n",
    "- **XLSX**: Archivo de Excel que puede tener múltiples hojas y formato"
   ]
  },
  {
   "cell_type": "markdown",
   "id": "41aa8eb2",
   "metadata": {},
   "source": [
    "### 📄 Caso 1: Cargar archivo CSV básico"
   ]
  },
  {
   "cell_type": "code",
   "execution_count": 71,
   "id": "7d7701e7",
   "metadata": {},
   "outputs": [
    {
     "name": "stdout",
     "output_type": "stream",
     "text": [
      "✅ Archivo CSV cargado exitosamente\n",
      "📊 Dimensiones: 577794 filas x 15 columnas\n",
      "📋 Columnas: ['ID', 'ESTACION', 'FECHA', 'HORA', 'LONGITUD', 'LATITUD', 'ALTITUD', 'PM10', 'PM2_5', 'NO2', 'DEPARTAMENTO', 'PROVINCIA', 'DISTRITO', 'UBIGEO', 'FECHA_CORTE']...\n"
     ]
    }
   ],
   "source": [
    "# Cargar archivo CSV simple\n",
    "# df_csv = pd.read_csv('archivo.csv')\n",
    "\n",
    "# Ejemplo con el archivo de contaminantes (CSV)\n",
    "df_csv = pd.read_csv('datos02.csv')\n",
    "# df_csv\n",
    "print(\"✅ Archivo CSV cargado exitosamente\")\n",
    "print(f\"📊 Dimensiones: {df_csv.shape[0]} filas x {df_csv.shape[1]} columnas\")\n",
    "print(f\"📋 Columnas: {df_csv.columns.tolist()[:]}...\")  # Primeras 5 columnas\n"
   ]
  },
  {
   "cell_type": "markdown",
   "id": "14939bc0",
   "metadata": {},
   "source": [
    "### 📄 Caso 2: Cargar archivo CSV con delimitador diferente\n",
    "Algunos archivos CSV usan `;` (punto y coma) en lugar de `,` (coma)"
   ]
  },
  {
   "cell_type": "code",
   "execution_count": 78,
   "id": "70ea5a29",
   "metadata": {},
   "outputs": [
    {
     "data": {
      "text/html": [
       "<div>\n",
       "<style scoped>\n",
       "    .dataframe tbody tr th:only-of-type {\n",
       "        vertical-align: middle;\n",
       "    }\n",
       "\n",
       "    .dataframe tbody tr th {\n",
       "        vertical-align: top;\n",
       "    }\n",
       "\n",
       "    .dataframe thead th {\n",
       "        text-align: right;\n",
       "    }\n",
       "</style>\n",
       "<table border=\"1\" class=\"dataframe\">\n",
       "  <thead>\n",
       "    <tr style=\"text-align: right;\">\n",
       "      <th></th>\n",
       "      <th>ID</th>\n",
       "      <th>ESTACION</th>\n",
       "      <th>FECHA</th>\n",
       "      <th>HORA</th>\n",
       "      <th>LONGITUD</th>\n",
       "      <th>LATITUD</th>\n",
       "      <th>ALTITUD</th>\n",
       "      <th>PM10</th>\n",
       "      <th>PM2_5</th>\n",
       "      <th>NO2</th>\n",
       "      <th>DEPARTAMENTO</th>\n",
       "      <th>PROVINCIA</th>\n",
       "      <th>DISTRITO</th>\n",
       "      <th>UBIGEO</th>\n",
       "      <th>FECHA_CORTE</th>\n",
       "    </tr>\n",
       "  </thead>\n",
       "  <tbody>\n",
       "    <tr>\n",
       "      <th>0</th>\n",
       "      <td>1</td>\n",
       "      <td>CAMPO_DE_MARTE</td>\n",
       "      <td>20150101</td>\n",
       "      <td>50000</td>\n",
       "      <td>-77.0432</td>\n",
       "      <td>-12.0705</td>\n",
       "      <td>117.0</td>\n",
       "      <td>37.920</td>\n",
       "      <td>NaN</td>\n",
       "      <td>NaN</td>\n",
       "      <td>LIMA</td>\n",
       "      <td>LIMA</td>\n",
       "      <td>JESUS_MARIA</td>\n",
       "      <td>150113.0</td>\n",
       "      <td>20240531</td>\n",
       "    </tr>\n",
       "    <tr>\n",
       "      <th>1</th>\n",
       "      <td>2</td>\n",
       "      <td>CAMPO_DE_MARTE</td>\n",
       "      <td>20150101</td>\n",
       "      <td>60000</td>\n",
       "      <td>-77.0432</td>\n",
       "      <td>-12.0705</td>\n",
       "      <td>117.0</td>\n",
       "      <td>153.390</td>\n",
       "      <td>NaN</td>\n",
       "      <td>NaN</td>\n",
       "      <td>LIMA</td>\n",
       "      <td>LIMA</td>\n",
       "      <td>JESUS_MARIA</td>\n",
       "      <td>150113.0</td>\n",
       "      <td>20240531</td>\n",
       "    </tr>\n",
       "    <tr>\n",
       "      <th>2</th>\n",
       "      <td>3</td>\n",
       "      <td>CAMPO_DE_MARTE</td>\n",
       "      <td>20150101</td>\n",
       "      <td>70000</td>\n",
       "      <td>-77.0432</td>\n",
       "      <td>-12.0705</td>\n",
       "      <td>117.0</td>\n",
       "      <td>116.490</td>\n",
       "      <td>NaN</td>\n",
       "      <td>NaN</td>\n",
       "      <td>LIMA</td>\n",
       "      <td>LIMA</td>\n",
       "      <td>JESUS_MARIA</td>\n",
       "      <td>150113.0</td>\n",
       "      <td>20240531</td>\n",
       "    </tr>\n",
       "    <tr>\n",
       "      <th>3</th>\n",
       "      <td>4</td>\n",
       "      <td>CAMPO_DE_MARTE</td>\n",
       "      <td>20150101</td>\n",
       "      <td>80000</td>\n",
       "      <td>-77.0432</td>\n",
       "      <td>-12.0705</td>\n",
       "      <td>117.0</td>\n",
       "      <td>80.740</td>\n",
       "      <td>NaN</td>\n",
       "      <td>NaN</td>\n",
       "      <td>LIMA</td>\n",
       "      <td>LIMA</td>\n",
       "      <td>JESUS_MARIA</td>\n",
       "      <td>150113.0</td>\n",
       "      <td>20240531</td>\n",
       "    </tr>\n",
       "    <tr>\n",
       "      <th>4</th>\n",
       "      <td>5</td>\n",
       "      <td>CAMPO_DE_MARTE</td>\n",
       "      <td>20150101</td>\n",
       "      <td>90000</td>\n",
       "      <td>-77.0432</td>\n",
       "      <td>-12.0705</td>\n",
       "      <td>117.0</td>\n",
       "      <td>27.400</td>\n",
       "      <td>NaN</td>\n",
       "      <td>NaN</td>\n",
       "      <td>LIMA</td>\n",
       "      <td>LIMA</td>\n",
       "      <td>JESUS_MARIA</td>\n",
       "      <td>150113.0</td>\n",
       "      <td>20240531</td>\n",
       "    </tr>\n",
       "    <tr>\n",
       "      <th>...</th>\n",
       "      <td>...</td>\n",
       "      <td>...</td>\n",
       "      <td>...</td>\n",
       "      <td>...</td>\n",
       "      <td>...</td>\n",
       "      <td>...</td>\n",
       "      <td>...</td>\n",
       "      <td>...</td>\n",
       "      <td>...</td>\n",
       "      <td>...</td>\n",
       "      <td>...</td>\n",
       "      <td>...</td>\n",
       "      <td>...</td>\n",
       "      <td>...</td>\n",
       "      <td>...</td>\n",
       "    </tr>\n",
       "    <tr>\n",
       "      <th>577789</th>\n",
       "      <td>577790</td>\n",
       "      <td>VILLA_MARIA_DEL_TRIUNFO</td>\n",
       "      <td>20240531</td>\n",
       "      <td>190000</td>\n",
       "      <td>-76.9200</td>\n",
       "      <td>-12.1664</td>\n",
       "      <td>272.0</td>\n",
       "      <td>12.340</td>\n",
       "      <td>12.290</td>\n",
       "      <td>42.8</td>\n",
       "      <td>LIMA</td>\n",
       "      <td>LIMA</td>\n",
       "      <td>VILLA_MARIA_DEL_TRIUNFO</td>\n",
       "      <td>150143.0</td>\n",
       "      <td>20240531</td>\n",
       "    </tr>\n",
       "    <tr>\n",
       "      <th>577790</th>\n",
       "      <td>577791</td>\n",
       "      <td>VILLA_MARIA_DEL_TRIUNFO</td>\n",
       "      <td>20240531</td>\n",
       "      <td>200000</td>\n",
       "      <td>-76.9200</td>\n",
       "      <td>-12.1664</td>\n",
       "      <td>272.0</td>\n",
       "      <td>12.110</td>\n",
       "      <td>12.070</td>\n",
       "      <td>39.9</td>\n",
       "      <td>LIMA</td>\n",
       "      <td>LIMA</td>\n",
       "      <td>VILLA_MARIA_DEL_TRIUNFO</td>\n",
       "      <td>150143.0</td>\n",
       "      <td>20240531</td>\n",
       "    </tr>\n",
       "    <tr>\n",
       "      <th>577791</th>\n",
       "      <td>577792</td>\n",
       "      <td>VILLA_MARIA_DEL_TRIUNFO</td>\n",
       "      <td>20240531</td>\n",
       "      <td>210000</td>\n",
       "      <td>-76.9200</td>\n",
       "      <td>-12.1664</td>\n",
       "      <td>272.0</td>\n",
       "      <td>8.320</td>\n",
       "      <td>8.300</td>\n",
       "      <td>27.4</td>\n",
       "      <td>LIMA</td>\n",
       "      <td>LIMA</td>\n",
       "      <td>VILLA_MARIA_DEL_TRIUNFO</td>\n",
       "      <td>150143.0</td>\n",
       "      <td>20240531</td>\n",
       "    </tr>\n",
       "    <tr>\n",
       "      <th>577792</th>\n",
       "      <td>577793</td>\n",
       "      <td>VILLA_MARIA_DEL_TRIUNFO</td>\n",
       "      <td>20240531</td>\n",
       "      <td>220000</td>\n",
       "      <td>-76.9200</td>\n",
       "      <td>-12.1664</td>\n",
       "      <td>272.0</td>\n",
       "      <td>8.520</td>\n",
       "      <td>8.440</td>\n",
       "      <td>31.6</td>\n",
       "      <td>LIMA</td>\n",
       "      <td>LIMA</td>\n",
       "      <td>VILLA_MARIA_DEL_TRIUNFO</td>\n",
       "      <td>150143.0</td>\n",
       "      <td>20240531</td>\n",
       "    </tr>\n",
       "    <tr>\n",
       "      <th>577793</th>\n",
       "      <td>577794</td>\n",
       "      <td>VILLA_MARIA_DEL_TRIUNFO</td>\n",
       "      <td>20240531</td>\n",
       "      <td>230000</td>\n",
       "      <td>-76.9200</td>\n",
       "      <td>-12.1664</td>\n",
       "      <td>272.0</td>\n",
       "      <td>7.015</td>\n",
       "      <td>6.977</td>\n",
       "      <td>29.1</td>\n",
       "      <td>LIMA</td>\n",
       "      <td>LIMA</td>\n",
       "      <td>VILLA_MARIA_DEL_TRIUNFO</td>\n",
       "      <td>150143.0</td>\n",
       "      <td>20240531</td>\n",
       "    </tr>\n",
       "  </tbody>\n",
       "</table>\n",
       "<p>577794 rows × 15 columns</p>\n",
       "</div>"
      ],
      "text/plain": [
       "            ID                 ESTACION     FECHA    HORA  LONGITUD  LATITUD  \\\n",
       "0            1           CAMPO_DE_MARTE  20150101   50000  -77.0432 -12.0705   \n",
       "1            2           CAMPO_DE_MARTE  20150101   60000  -77.0432 -12.0705   \n",
       "2            3           CAMPO_DE_MARTE  20150101   70000  -77.0432 -12.0705   \n",
       "3            4           CAMPO_DE_MARTE  20150101   80000  -77.0432 -12.0705   \n",
       "4            5           CAMPO_DE_MARTE  20150101   90000  -77.0432 -12.0705   \n",
       "...        ...                      ...       ...     ...       ...      ...   \n",
       "577789  577790  VILLA_MARIA_DEL_TRIUNFO  20240531  190000  -76.9200 -12.1664   \n",
       "577790  577791  VILLA_MARIA_DEL_TRIUNFO  20240531  200000  -76.9200 -12.1664   \n",
       "577791  577792  VILLA_MARIA_DEL_TRIUNFO  20240531  210000  -76.9200 -12.1664   \n",
       "577792  577793  VILLA_MARIA_DEL_TRIUNFO  20240531  220000  -76.9200 -12.1664   \n",
       "577793  577794  VILLA_MARIA_DEL_TRIUNFO  20240531  230000  -76.9200 -12.1664   \n",
       "\n",
       "        ALTITUD     PM10   PM2_5   NO2 DEPARTAMENTO PROVINCIA  \\\n",
       "0         117.0   37.920     NaN   NaN         LIMA      LIMA   \n",
       "1         117.0  153.390     NaN   NaN         LIMA      LIMA   \n",
       "2         117.0  116.490     NaN   NaN         LIMA      LIMA   \n",
       "3         117.0   80.740     NaN   NaN         LIMA      LIMA   \n",
       "4         117.0   27.400     NaN   NaN         LIMA      LIMA   \n",
       "...         ...      ...     ...   ...          ...       ...   \n",
       "577789    272.0   12.340  12.290  42.8         LIMA      LIMA   \n",
       "577790    272.0   12.110  12.070  39.9         LIMA      LIMA   \n",
       "577791    272.0    8.320   8.300  27.4         LIMA      LIMA   \n",
       "577792    272.0    8.520   8.440  31.6         LIMA      LIMA   \n",
       "577793    272.0    7.015   6.977  29.1         LIMA      LIMA   \n",
       "\n",
       "                       DISTRITO    UBIGEO  FECHA_CORTE  \n",
       "0                   JESUS_MARIA  150113.0     20240531  \n",
       "1                   JESUS_MARIA  150113.0     20240531  \n",
       "2                   JESUS_MARIA  150113.0     20240531  \n",
       "3                   JESUS_MARIA  150113.0     20240531  \n",
       "4                   JESUS_MARIA  150113.0     20240531  \n",
       "...                         ...       ...          ...  \n",
       "577789  VILLA_MARIA_DEL_TRIUNFO  150143.0     20240531  \n",
       "577790  VILLA_MARIA_DEL_TRIUNFO  150143.0     20240531  \n",
       "577791  VILLA_MARIA_DEL_TRIUNFO  150143.0     20240531  \n",
       "577792  VILLA_MARIA_DEL_TRIUNFO  150143.0     20240531  \n",
       "577793  VILLA_MARIA_DEL_TRIUNFO  150143.0     20240531  \n",
       "\n",
       "[577794 rows x 15 columns]"
      ]
     },
     "execution_count": 78,
     "metadata": {},
     "output_type": "execute_result"
    }
   ],
   "source": [
    "# Si el CSV usa punto y coma como separador\n",
    "df_csv_semicolon = pd.read_csv('datos02.csv', sep=',')\n",
    "df_csv_semicolon\n",
    "# Si usa tabulador\n",
    "# df_csv_tab = pd.read_csv('archivo.csv', sep='\\t')\n",
    "\n",
    "# Si usa pipe\n",
    "# df_csv_pipe = pd.read_csv('archivo.csv', sep='|')\n",
    "\n",
    "# print(\"💡 Usa el parámetro 'sep' para especificar el delimitador\")\n"
   ]
  },
  {
   "cell_type": "markdown",
   "id": "14d4fde0",
   "metadata": {},
   "source": [
    "### 📄 Caso 3: Cargar CSV sin cabecera (sin nombres de columnas)"
   ]
  },
  {
   "cell_type": "code",
   "execution_count": null,
   "id": "3ba27f9b",
   "metadata": {},
   "outputs": [
    {
     "name": "stdout",
     "output_type": "stream",
     "text": [
      "💡 Usa 'header=None' si el archivo no tiene nombres de columnas\n"
     ]
    }
   ],
   "source": [
    "# Si el archivo NO tiene fila de encabezado\n",
    "# df_sin_header = pd.read_csv('archivo.csv', header=None)\n",
    "\n",
    "# Puedes asignar nombres manualmente\n",
    "# df_sin_header.columns = ['col1', 'col2', 'col3']\n",
    "\n",
    "# df = pd.read_csv('datos02.csv', header=None, names=['col1', 'col2', 'col3'])\n",
    "\n",
    "\n",
    "print(\"💡 Usa 'header=None' si el archivo no tiene nombres de columnas\")\n"
   ]
  },
  {
   "cell_type": "markdown",
   "id": "c284b099",
   "metadata": {},
   "source": [
    "### 📊 Caso 4: Cargar archivo XLSX (Excel) básico"
   ]
  },
  {
   "cell_type": "code",
   "execution_count": null,
   "id": "d5d6bfc9",
   "metadata": {},
   "outputs": [],
   "source": [
    "# Cargar archivo Excel básico\n",
    "# df = pd.read_excel('archivo.xlsx')\n",
    "\n",
    "# Ejemplo con datos del SENAMHI\n",
    "df = pd.read_excel('senamhi_by_station.xlsx')\n",
    "\n",
    "print(\"✅ Archivo XLSX cargado exitosamente\")\n",
    "print(f\"📊 Dimensiones: {df.shape[0]} filas x {df.shape[1]} columnas\")\n",
    "\n"
   ]
  },
  {
   "cell_type": "markdown",
   "id": "f12a4eed",
   "metadata": {},
   "source": [
    "### 📊 Caso 5: Cargar XLSX con múltiples hojas\n",
    "Archivos Excel pueden tener varias hojas (sheets)"
   ]
  },
  {
   "cell_type": "code",
   "execution_count": null,
   "id": "94342660",
   "metadata": {},
   "outputs": [
    {
     "data": {
      "text/html": [
       "<div>\n",
       "<style scoped>\n",
       "    .dataframe tbody tr th:only-of-type {\n",
       "        vertical-align: middle;\n",
       "    }\n",
       "\n",
       "    .dataframe tbody tr th {\n",
       "        vertical-align: top;\n",
       "    }\n",
       "\n",
       "    .dataframe thead th {\n",
       "        text-align: right;\n",
       "    }\n",
       "</style>\n",
       "<table border=\"1\" class=\"dataframe\">\n",
       "  <thead>\n",
       "    <tr style=\"text-align: right;\">\n",
       "      <th></th>\n",
       "      <th>AÑO / MES / DÍA</th>\n",
       "      <th>HORA</th>\n",
       "      <th>TEMPERATURA (°C)</th>\n",
       "      <th>HUMEDAD (%)</th>\n",
       "      <th>DIRECCION DEL VIENTO (°)</th>\n",
       "      <th>VELOCIDAD DEL VIENTO (m/s)</th>\n",
       "    </tr>\n",
       "  </thead>\n",
       "  <tbody>\n",
       "    <tr>\n",
       "      <th>0</th>\n",
       "      <td>2020/09/01</td>\n",
       "      <td>00:00</td>\n",
       "      <td>14.8</td>\n",
       "      <td>89.8</td>\n",
       "      <td>172</td>\n",
       "      <td>0.5</td>\n",
       "    </tr>\n",
       "    <tr>\n",
       "      <th>1</th>\n",
       "      <td>2020/09/01</td>\n",
       "      <td>01:00</td>\n",
       "      <td>14.8</td>\n",
       "      <td>90.4</td>\n",
       "      <td>222.3</td>\n",
       "      <td>0.5</td>\n",
       "    </tr>\n",
       "    <tr>\n",
       "      <th>2</th>\n",
       "      <td>2020/09/01</td>\n",
       "      <td>02:00</td>\n",
       "      <td>14.6</td>\n",
       "      <td>90.9</td>\n",
       "      <td>194.9</td>\n",
       "      <td>0.8</td>\n",
       "    </tr>\n",
       "    <tr>\n",
       "      <th>3</th>\n",
       "      <td>2020/09/01</td>\n",
       "      <td>03:00</td>\n",
       "      <td>14.6</td>\n",
       "      <td>90.9</td>\n",
       "      <td>216.1</td>\n",
       "      <td>0.3</td>\n",
       "    </tr>\n",
       "    <tr>\n",
       "      <th>4</th>\n",
       "      <td>2020/09/01</td>\n",
       "      <td>04:00</td>\n",
       "      <td>14.5</td>\n",
       "      <td>91.2</td>\n",
       "      <td>198.9</td>\n",
       "      <td>1.0</td>\n",
       "    </tr>\n",
       "    <tr>\n",
       "      <th>...</th>\n",
       "      <td>...</td>\n",
       "      <td>...</td>\n",
       "      <td>...</td>\n",
       "      <td>...</td>\n",
       "      <td>...</td>\n",
       "      <td>...</td>\n",
       "    </tr>\n",
       "    <tr>\n",
       "      <th>39130</th>\n",
       "      <td>2025/09/13</td>\n",
       "      <td>08:00</td>\n",
       "      <td>17.5</td>\n",
       "      <td>84.8</td>\n",
       "      <td>75.79</td>\n",
       "      <td>0.4</td>\n",
       "    </tr>\n",
       "    <tr>\n",
       "      <th>39131</th>\n",
       "      <td>2025/09/13</td>\n",
       "      <td>09:00</td>\n",
       "      <td>19.2</td>\n",
       "      <td>79.62</td>\n",
       "      <td>220.8</td>\n",
       "      <td>0.7</td>\n",
       "    </tr>\n",
       "    <tr>\n",
       "      <th>39132</th>\n",
       "      <td>2025/09/13</td>\n",
       "      <td>10:00</td>\n",
       "      <td>20.4</td>\n",
       "      <td>73.53</td>\n",
       "      <td>232.5</td>\n",
       "      <td>0.7</td>\n",
       "    </tr>\n",
       "    <tr>\n",
       "      <th>39133</th>\n",
       "      <td>2025/09/13</td>\n",
       "      <td>11:00</td>\n",
       "      <td>22.2</td>\n",
       "      <td>65.57</td>\n",
       "      <td>275.2</td>\n",
       "      <td>1.3</td>\n",
       "    </tr>\n",
       "    <tr>\n",
       "      <th>39134</th>\n",
       "      <td>2025/09/13</td>\n",
       "      <td>12:00</td>\n",
       "      <td>22.8</td>\n",
       "      <td>64.13</td>\n",
       "      <td>287.3</td>\n",
       "      <td>1.7</td>\n",
       "    </tr>\n",
       "  </tbody>\n",
       "</table>\n",
       "<p>39135 rows × 6 columns</p>\n",
       "</div>"
      ],
      "text/plain": [
       "      AÑO / MES / DÍA   HORA TEMPERATURA (°C) HUMEDAD (%)  \\\n",
       "0          2020/09/01  00:00             14.8        89.8   \n",
       "1          2020/09/01  01:00             14.8        90.4   \n",
       "2          2020/09/01  02:00             14.6        90.9   \n",
       "3          2020/09/01  03:00             14.6        90.9   \n",
       "4          2020/09/01  04:00             14.5        91.2   \n",
       "...               ...    ...              ...         ...   \n",
       "39130      2025/09/13  08:00             17.5        84.8   \n",
       "39131      2025/09/13  09:00             19.2       79.62   \n",
       "39132      2025/09/13  10:00             20.4       73.53   \n",
       "39133      2025/09/13  11:00             22.2       65.57   \n",
       "39134      2025/09/13  12:00             22.8       64.13   \n",
       "\n",
       "      DIRECCION DEL VIENTO (°) VELOCIDAD DEL VIENTO (m/s)  \n",
       "0                          172                        0.5  \n",
       "1                        222.3                        0.5  \n",
       "2                        194.9                        0.8  \n",
       "3                        216.1                        0.3  \n",
       "4                        198.9                        1.0  \n",
       "...                        ...                        ...  \n",
       "39130                    75.79                        0.4  \n",
       "39131                    220.8                        0.7  \n",
       "39132                    232.5                        0.7  \n",
       "39133                    275.2                        1.3  \n",
       "39134                    287.3                        1.7  \n",
       "\n",
       "[39135 rows x 6 columns]"
      ]
     },
     "execution_count": 84,
     "metadata": {},
     "output_type": "execute_result"
    }
   ],
   "source": [
    "# Ver qué hojas tiene el archivo Excel\n",
    "# excel_file = pd.ExcelFile('senamhi_by_station.xlsx')\n",
    "# print(\"Hojas disponibles:\", excel_file.sheet_names)\n",
    "\n",
    "# Cargar una hoja específica por nombre\n",
    "# df_hoja1 = pd.read_excel('senamhi_by_station.xlsx', sheet_name='Campo_De_Marte_MET_EMA')\n",
    "# df_hoja1\n",
    "# Cargar una hoja específica por índice (0 = primera hoja)\n",
    "df_primera = pd.read_excel('senamhi_by_station.xlsx', sheet_name=1)\n",
    "df_primera\n",
    "# df_segunda = pd.read_excel('senamhi_by_station.xlsx', sheet_name=1)\n",
    "\n",
    "# Cargar TODAS las hojas a la vez (devuelve un diccionario)\n",
    "# all_sheets = pd.read_excel('senamhi_by_station.xlsx', sheet_name=None)\n",
    "# df_hoja1 = all_sheets['NombreHoja1']\n",
    "# df_hoja2 = all_sheets['NombreHoja2']\n",
    "\n",
    "# print(\"💡 Usa 'sheet_name' para especificar qué hoja cargar\")\n"
   ]
  },
  {
   "cell_type": "markdown",
   "id": "30f9dde2",
   "metadata": {},
   "source": [
    "### 📊 Caso 7: Cargar solo algunas filas\n",
    "Útil para archivos muy grandes o para pruebas rápidas"
   ]
  },
  {
   "cell_type": "code",
   "execution_count": 96,
   "id": "6157a5c4",
   "metadata": {},
   "outputs": [
    {
     "data": {
      "text/html": [
       "<div>\n",
       "<style scoped>\n",
       "    .dataframe tbody tr th:only-of-type {\n",
       "        vertical-align: middle;\n",
       "    }\n",
       "\n",
       "    .dataframe tbody tr th {\n",
       "        vertical-align: top;\n",
       "    }\n",
       "\n",
       "    .dataframe thead th {\n",
       "        text-align: right;\n",
       "    }\n",
       "</style>\n",
       "<table border=\"1\" class=\"dataframe\">\n",
       "  <thead>\n",
       "    <tr style=\"text-align: right;\">\n",
       "      <th></th>\n",
       "      <th>AÑO / MES / DÍA</th>\n",
       "      <th>HORA</th>\n",
       "      <th>TEMPERATURA (°C)</th>\n",
       "      <th>PRECIPITACIÓN (mm/hora)</th>\n",
       "      <th>HUMEDAD (%)</th>\n",
       "      <th>DIRECCION DEL VIENTO (°)</th>\n",
       "      <th>VELOCIDAD DEL VIENTO (m/s)</th>\n",
       "    </tr>\n",
       "  </thead>\n",
       "  <tbody>\n",
       "    <tr>\n",
       "      <th>0</th>\n",
       "      <td>2020/10/01</td>\n",
       "      <td>00:00</td>\n",
       "      <td>16.0</td>\n",
       "      <td>0</td>\n",
       "      <td>88</td>\n",
       "      <td>217</td>\n",
       "      <td>1.5</td>\n",
       "    </tr>\n",
       "    <tr>\n",
       "      <th>1</th>\n",
       "      <td>2020/10/01</td>\n",
       "      <td>01:00</td>\n",
       "      <td>15.9</td>\n",
       "      <td>0</td>\n",
       "      <td>89</td>\n",
       "      <td>214</td>\n",
       "      <td>1.3</td>\n",
       "    </tr>\n",
       "  </tbody>\n",
       "</table>\n",
       "</div>"
      ],
      "text/plain": [
       "  AÑO / MES / DÍA   HORA  TEMPERATURA (°C)  PRECIPITACIÓN (mm/hora)  \\\n",
       "0      2020/10/01  00:00              16.0                        0   \n",
       "1      2020/10/01  01:00              15.9                        0   \n",
       "\n",
       "   HUMEDAD (%)  DIRECCION DEL VIENTO (°)  VELOCIDAD DEL VIENTO (m/s)  \n",
       "0           88                       217                         1.5  \n",
       "1           89                       214                         1.3  "
      ]
     },
     "execution_count": 96,
     "metadata": {},
     "output_type": "execute_result"
    }
   ],
   "source": [
    "# Cargar solo las primeras 100 filas\n",
    "df_sample = pd.read_excel('senamhi_by_station.xlsx', nrows=2)\n",
    "df_sample\n",
    "\n",
    "# Saltar las primeras 5 filas (útil si hay metadatos al inicio)\n",
    "# df_skip = pd.read_csv('archivo.csv', skiprows=5)\n",
    "\n",
    "# Saltar filas específicas (ejemplo: saltar filas 1, 3 y 5)\n",
    "# df_skip_specific = pd.read_csv('archivo.csv', skiprows=[1, 3, 5])\n",
    "\n",
    "# print(\"💡 Usa 'nrows' para limitar filas, 'skiprows' para saltarlas\")\n"
   ]
  },
  {
   "cell_type": "markdown",
   "id": "eef264d6",
   "metadata": {},
   "source": [
    "### 📊 Caso 8: Cargar solo columnas específicas\n",
    "Útil cuando solo necesitas algunas columnas de un archivo grande"
   ]
  },
  {
   "cell_type": "code",
   "execution_count": 107,
   "id": "9a4388a0",
   "metadata": {},
   "outputs": [
    {
     "data": {
      "text/html": [
       "<div>\n",
       "<style scoped>\n",
       "    .dataframe tbody tr th:only-of-type {\n",
       "        vertical-align: middle;\n",
       "    }\n",
       "\n",
       "    .dataframe tbody tr th {\n",
       "        vertical-align: top;\n",
       "    }\n",
       "\n",
       "    .dataframe thead th {\n",
       "        text-align: right;\n",
       "    }\n",
       "</style>\n",
       "<table border=\"1\" class=\"dataframe\">\n",
       "  <thead>\n",
       "    <tr style=\"text-align: right;\">\n",
       "      <th></th>\n",
       "      <th>TEMPERATURA (°C)</th>\n",
       "    </tr>\n",
       "  </thead>\n",
       "  <tbody>\n",
       "    <tr>\n",
       "      <th>0</th>\n",
       "      <td>16.0</td>\n",
       "    </tr>\n",
       "    <tr>\n",
       "      <th>1</th>\n",
       "      <td>15.9</td>\n",
       "    </tr>\n",
       "    <tr>\n",
       "      <th>2</th>\n",
       "      <td>16.1</td>\n",
       "    </tr>\n",
       "    <tr>\n",
       "      <th>3</th>\n",
       "      <td>15.8</td>\n",
       "    </tr>\n",
       "    <tr>\n",
       "      <th>4</th>\n",
       "      <td>15.6</td>\n",
       "    </tr>\n",
       "    <tr>\n",
       "      <th>5</th>\n",
       "      <td>15.7</td>\n",
       "    </tr>\n",
       "    <tr>\n",
       "      <th>6</th>\n",
       "      <td>15.6</td>\n",
       "    </tr>\n",
       "    <tr>\n",
       "      <th>7</th>\n",
       "      <td>15.5</td>\n",
       "    </tr>\n",
       "    <tr>\n",
       "      <th>8</th>\n",
       "      <td>16.0</td>\n",
       "    </tr>\n",
       "    <tr>\n",
       "      <th>9</th>\n",
       "      <td>16.6</td>\n",
       "    </tr>\n",
       "  </tbody>\n",
       "</table>\n",
       "</div>"
      ],
      "text/plain": [
       "   TEMPERATURA (°C)\n",
       "0              16.0\n",
       "1              15.9\n",
       "2              16.1\n",
       "3              15.8\n",
       "4              15.6\n",
       "5              15.7\n",
       "6              15.6\n",
       "7              15.5\n",
       "8              16.0\n",
       "9              16.6"
      ]
     },
     "execution_count": 107,
     "metadata": {},
     "output_type": "execute_result"
    }
   ],
   "source": [
    "# Cargar solo columnas específicas por nombre\n",
    "df_cols = pd.read_excel('senamhi_by_station.xlsx', sheet_name=0 , usecols=['TEMPERATURA (°C)'], nrows=10)\n",
    "df_cols\n",
    "\n",
    "# Cargar solo columnas específicas por índice (0, 1, 2 = primeras 3 columnas)\n",
    "# df_cols_index = pd.read_csv('archivo.csv', usecols=[0, 1, 2])\n",
    "\n",
    "# print(\"💡 Usa 'usecols' para cargar solo las columnas que necesitas\")\n"
   ]
  },
  {
   "cell_type": "markdown",
   "id": "2929f442",
   "metadata": {},
   "source": [
    "### 📊 Caso 9: Valores nulos personalizados\n",
    "A veces los valores nulos están representados de forma diferente"
   ]
  },
  {
   "cell_type": "code",
   "execution_count": 106,
   "id": "8158f28e",
   "metadata": {},
   "outputs": [
    {
     "name": "stdout",
     "output_type": "stream",
     "text": [
      "      AÑO / MES / DÍA   HORA TEMPERATURA (°C) PRECIPITACIÓN (mm/hora)  \\\n",
      "0          2020/10/01  00:00               16                       0   \n",
      "1          2020/10/01  01:00             15.9                       0   \n",
      "2          2020/10/01  02:00             16.1                       0   \n",
      "3          2020/10/01  03:00             15.8                       0   \n",
      "4          2020/10/01  04:00             15.6                       0   \n",
      "...               ...    ...              ...                     ...   \n",
      "43189      2025/09/13  08:00             15.3                       0   \n",
      "43190      2025/09/13  09:00             16.2                       0   \n",
      "43191      2025/09/13  10:00             17.7                       0   \n",
      "43192      2025/09/13  11:00             19.1                       0   \n",
      "43193      2025/09/13  12:00             20.3                       0   \n",
      "\n",
      "      HUMEDAD (%) DIRECCION DEL VIENTO (°) VELOCIDAD DEL VIENTO (m/s)  \n",
      "0              88                      217                        1.5  \n",
      "1              89                      214                        1.3  \n",
      "2              89                      217                        0.8  \n",
      "3              90                      209                        0.8  \n",
      "4              91                      203                        0.9  \n",
      "...           ...                      ...                        ...  \n",
      "43189          90                      220                        0.5  \n",
      "43190          86                      248                          1  \n",
      "43191          79                      232                        1.9  \n",
      "43192          76                      229                        1.9  \n",
      "43193          73                      233                        1.8  \n",
      "\n",
      "[43194 rows x 7 columns]\n"
     ]
    }
   ],
   "source": [
    "# Pandas reconoce como nulos: NaN, NA, NULL, None\n",
    "# Pero a veces los datos usan otras representaciones\n",
    "\n",
    "# Definir valores personalizados como nulos\n",
    "df_nulls = pd.read_excel('senamhi_by_station.xlsx', na_values=['N/A', 'Sin dato', '-', '?', ''])\n",
    "print(df_nulls)\n",
    "\n",
    "# Ejemplo: considerar 'S/D' y '---' como valores nulos\n",
    "# df_custom = pd.read_csv('archivo.csv', na_values=['S/D', '---', 'ND'])\n",
    "\n",
    "# print(\"💡 Usa 'na_values' para especificar qué valores considerar como nulos\")\n"
   ]
  },
  {
   "cell_type": "code",
   "execution_count": 105,
   "id": "0ec8a562",
   "metadata": {},
   "outputs": [
    {
     "data": {
      "text/plain": [
       "AÑO / MES / DÍA               0\n",
       "HORA                          0\n",
       "TEMPERATURA (°C)              0\n",
       "PRECIPITACIÓN (mm/hora)       0\n",
       "HUMEDAD (%)                   0\n",
       "DIRECCION DEL VIENTO (°)      0\n",
       "VELOCIDAD DEL VIENTO (m/s)    0\n",
       "dtype: int64"
      ]
     },
     "execution_count": 105,
     "metadata": {},
     "output_type": "execute_result"
    }
   ],
   "source": [
    "df.isnull().sum()\n"
   ]
  },
  {
   "cell_type": "markdown",
   "id": "0e7e34cd",
   "metadata": {},
   "source": [
    "### 📊 Resumen: Parámetros más útiles\n",
    "\n",
    "| Parámetro | CSV | XLSX | Descripción |\n",
    "|-----------|-----|------|-------------|\n",
    "| `sep` | ✅ | ❌ | Delimitador (`,`, `;`, `\\t`, `\\|`) |\n",
    "| `encoding` | ✅ | ❌ | Codificación (`utf-8`, `latin-1`) |\n",
    "| `header` | ✅ | ✅ | Fila de encabezado (None si no tiene) |\n",
    "| `sheet_name` | ❌ | ✅ | Nombre o índice de hoja Excel |\n",
    "| `nrows` | ✅ | ✅ | Número de filas a cargar |\n",
    "| `skiprows` | ✅ | ✅ | Filas a saltar al inicio |\n",
    "| `usecols` | ✅ | ✅ | Columnas específicas a cargar |\n",
    "| `na_values` | ✅ | ✅ | Valores a considerar como nulos |"
   ]
  },
  {
   "cell_type": "markdown",
   "id": "2e8796b5",
   "metadata": {},
   "source": [
    "## 🔍 Parte 3: Explorar los Datos\n",
    "\n",
    "Es fundamental conocer qué datos tenemos antes de analizarlos:"
   ]
  },
  {
   "cell_type": "code",
   "execution_count": 116,
   "id": "25e3b784",
   "metadata": {},
   "outputs": [
    {
     "name": "stdout",
     "output_type": "stream",
     "text": [
      "🔹 Primeras 5 filas del dataset:\n",
      "      AÑO / MES / DÍA   HORA TEMPERATURA (°C) PRECIPITACIÓN (mm/hora)  \\\n",
      "43189      2025/09/13  08:00             15.3                       0   \n",
      "43190      2025/09/13  09:00             16.2                       0   \n",
      "43191      2025/09/13  10:00             17.7                       0   \n",
      "43192      2025/09/13  11:00             19.1                       0   \n",
      "43193      2025/09/13  12:00             20.3                       0   \n",
      "\n",
      "      HUMEDAD (%) DIRECCION DEL VIENTO (°) VELOCIDAD DEL VIENTO (m/s)  \n",
      "43189          90                      220                        0.5  \n",
      "43190          86                      248                          1  \n",
      "43191          79                      232                        1.9  \n",
      "43192          76                      229                        1.9  \n",
      "43193          73                      233                        1.8  \n"
     ]
    }
   ],
   "source": [
    "# Ver las primeras 5 filas\n",
    "print(\"🔹 Primeras 5 filas del dataset:\")\n",
    "print(df.tail())\n"
   ]
  },
  {
   "cell_type": "code",
   "execution_count": 117,
   "id": "73c52785",
   "metadata": {},
   "outputs": [
    {
     "name": "stdout",
     "output_type": "stream",
     "text": [
      "🔹 Información general del dataset:\n",
      "<class 'pandas.core.frame.DataFrame'>\n",
      "RangeIndex: 43194 entries, 0 to 43193\n",
      "Data columns (total 7 columns):\n",
      " #   Column                      Non-Null Count  Dtype \n",
      "---  ------                      --------------  ----- \n",
      " 0   AÑO / MES / DÍA             43194 non-null  object\n",
      " 1   HORA                        43194 non-null  object\n",
      " 2   TEMPERATURA (°C)            43194 non-null  object\n",
      " 3   PRECIPITACIÓN (mm/hora)     43194 non-null  object\n",
      " 4   HUMEDAD (%)                 43194 non-null  object\n",
      " 5   DIRECCION DEL VIENTO (°)    43194 non-null  object\n",
      " 6   VELOCIDAD DEL VIENTO (m/s)  43194 non-null  object\n",
      "dtypes: object(7)\n",
      "memory usage: 2.3+ MB\n",
      "None\n",
      "\n",
      "\n",
      "🔹 Nombres de las columnas:\n",
      "['AÑO / MES / DÍA', 'HORA', 'TEMPERATURA (°C)', 'PRECIPITACIÓN (mm/hora)', 'HUMEDAD (%)', 'DIRECCION DEL VIENTO (°)', 'VELOCIDAD DEL VIENTO (m/s)']\n"
     ]
    }
   ],
   "source": [
    "# Ver información general del dataset\n",
    "print(\"🔹 Información general del dataset:\")\n",
    "print(df.info())\n",
    "print(\"\\n\")\n",
    "print(\"🔹 Nombres de las columnas:\")\n",
    "print(df.columns.tolist())\n"
   ]
  },
  {
   "cell_type": "markdown",
   "id": "d1f7b446",
   "metadata": {},
   "source": [
    "### ⚠️ IMPORTANTE: Verificar y Corregir Tipos de Datos\n",
    "\n",
    "**¿Por qué es crucial verificar los tipos de datos?**\n",
    "\n",
    "Pandas **NO siempre** detecta automáticamente el tipo correcto. Debes revisar `df.info()` y corregir según la naturaleza de cada columna:\n",
    "\n",
    "| Tipo de Dato Real | Convertir a | Función |\n",
    "|-------------------|-------------|---------|\n",
    "| Números (temperatura, edad) | `float64` o `int64` | `pd.to_numeric()` |\n",
    "| Fechas (2024-10-10) | `datetime64` | `pd.to_datetime()` |\n",
    "| Texto/Categorías (nombre, ciudad) | `string` o `category` | `.astype('string')` |\n",
    "| Porcentajes (guardados como texto) | `float64` | `pd.to_numeric()` después de limpiar `%` |\n",
    "| Booleanos (Sí/No, True/False) | `bool` | `.astype('bool')` |\n",
    "\n",
    "**Consecuencias de NO corregir tipos:**\n",
    "- ❌ No puedes hacer cálculos matemáticos\n",
    "- ❌ Los gráficos fallan o se ven mal\n",
    "- ❌ Filtros y ordenamientos incorrectos\n",
    "- ❌ Mayor uso de memoria"
   ]
  },
  {
   "cell_type": "markdown",
   "id": "0b2c11db",
   "metadata": {},
   "source": [
    "### 🔧 Ejemplo 1: Información General"
   ]
  },
  {
   "cell_type": "code",
   "execution_count": 118,
   "id": "5b4f3a14",
   "metadata": {},
   "outputs": [
    {
     "name": "stdout",
     "output_type": "stream",
     "text": [
      "✅ Columnas convertidas a tipo numérico\n"
     ]
    }
   ],
   "source": [
    "# Convertir columnas numéricas que Pandas leyó como texto\n",
    "# errors='coerce' convierte valores no numéricos en NaN\n",
    "\n",
    "df['TEMPERATURA (°C)'] = pd.to_numeric(df['TEMPERATURA (°C)'], errors='coerce')\n",
    "df['VELOCIDAD DEL VIENTO (m/s)'] = pd.to_numeric(df['VELOCIDAD DEL VIENTO (m/s)'], errors='coerce')\n",
    "df['HUMEDAD (%)'] = pd.to_numeric(df['HUMEDAD (%)'], errors='coerce')\n",
    "df['PRECIPITACIÓN (mm/hora)'] = pd.to_numeric(df['PRECIPITACIÓN (mm/hora)'], errors='coerce')\n",
    "df['DIRECCION DEL VIENTO (°)'] = pd.to_numeric(df['DIRECCION DEL VIENTO (°)'], errors='coerce')\n",
    "\n",
    "print(\"✅ Columnas convertidas a tipo numérico\")\n"
   ]
  },
  {
   "cell_type": "code",
   "execution_count": 119,
   "id": "23abee68",
   "metadata": {},
   "outputs": [
    {
     "name": "stdout",
     "output_type": "stream",
     "text": [
      "🔹 Información general del dataset:\n",
      "<class 'pandas.core.frame.DataFrame'>\n",
      "RangeIndex: 43194 entries, 0 to 43193\n",
      "Data columns (total 7 columns):\n",
      " #   Column                      Non-Null Count  Dtype  \n",
      "---  ------                      --------------  -----  \n",
      " 0   AÑO / MES / DÍA             43194 non-null  object \n",
      " 1   HORA                        43194 non-null  object \n",
      " 2   TEMPERATURA (°C)            43060 non-null  float64\n",
      " 3   PRECIPITACIÓN (mm/hora)     43108 non-null  float64\n",
      " 4   HUMEDAD (%)                 42971 non-null  float64\n",
      " 5   DIRECCION DEL VIENTO (°)    43109 non-null  float64\n",
      " 6   VELOCIDAD DEL VIENTO (m/s)  41604 non-null  float64\n",
      "dtypes: float64(5), object(2)\n",
      "memory usage: 2.3+ MB\n",
      "None\n",
      "\n",
      "\n",
      "🔹 Nombres de las columnas:\n",
      "['AÑO / MES / DÍA', 'HORA', 'TEMPERATURA (°C)', 'PRECIPITACIÓN (mm/hora)', 'HUMEDAD (%)', 'DIRECCION DEL VIENTO (°)', 'VELOCIDAD DEL VIENTO (m/s)']\n"
     ]
    }
   ],
   "source": [
    "# Ver información general del dataset\n",
    "print(\"🔹 Información general del dataset:\")\n",
    "print(df.info())\n",
    "print(\"\\n\")\n",
    "print(\"🔹 Nombres de las columnas:\")\n",
    "print(df.columns.tolist())\n"
   ]
  },
  {
   "cell_type": "markdown",
   "id": "08fd2a82",
   "metadata": {},
   "source": [
    "### 🔧 Ejemplo 3: Estadisticas"
   ]
  },
  {
   "cell_type": "code",
   "execution_count": 120,
   "id": "f9722eb5",
   "metadata": {},
   "outputs": [
    {
     "name": "stdout",
     "output_type": "stream",
     "text": [
      "🔹 Estadísticas descriptivas:\n",
      "       TEMPERATURA (°C)  PRECIPITACIÓN (mm/hora)   HUMEDAD (%)  \\\n",
      "count      43060.000000             43108.000000  42971.000000   \n",
      "mean          19.166869                 0.001097     83.680338   \n",
      "std            3.476377                 0.013991      8.769423   \n",
      "min           12.100000                 0.000000     48.000000   \n",
      "25%           16.300000                 0.000000     78.000000   \n",
      "50%           18.800000                 0.000000     85.000000   \n",
      "75%           21.500000                 0.000000     90.000000   \n",
      "max           33.700000                 1.000000    100.000000   \n",
      "\n",
      "       DIRECCION DEL VIENTO (°)  VELOCIDAD DEL VIENTO (m/s)  \n",
      "count              43109.000000                41604.000000  \n",
      "mean                 224.538078                    1.123978  \n",
      "std                   35.692441                    0.600306  \n",
      "min                    0.000000                    0.000000  \n",
      "25%                  212.000000                    0.700000  \n",
      "50%                  229.000000                    1.100000  \n",
      "75%                  239.000000                    1.500000  \n",
      "max                  360.000000                    3.600000  \n"
     ]
    }
   ],
   "source": [
    "# Estadísticas descriptivas de las columnas numéricas\n",
    "print(\"🔹 Estadísticas descriptivas:\")\n",
    "print(df.describe())\n"
   ]
  },
  {
   "cell_type": "markdown",
   "id": "d95fca9c",
   "metadata": {},
   "source": [
    "## 🎯 Parte 4: Seleccionar y Filtrar Datos\n",
    "\n",
    "Aprendamos a seleccionar columnas específicas y filtrar información:\n",
    "\n",
    "### 📌 Conceptos clave:\n",
    "- **Serie**: Una sola columna (como una lista) → `df['columna']`\n",
    "- **DataFrame**: Tabla con varias columnas → `df[['col1', 'col2']]`\n",
    "- **Filtrado**: Seleccionar filas que cumplen condiciones → `df[df['temperatura'] > 25]`\n",
    "\n",
    "**Métodos avanzados (para más adelante):**\n",
    "- `.loc[]` - Seleccionar por etiquetas (nombres)\n",
    "- `.iloc[]` - Seleccionar por posición (índices numéricos)\n",
    "- `.query()` - Filtrar con sintaxis SQL"
   ]
  },
  {
   "cell_type": "code",
   "execution_count": 121,
   "id": "3da1e32c",
   "metadata": {},
   "outputs": [
    {
     "name": "stdout",
     "output_type": "stream",
     "text": [
      "Columnas disponibles en el dataset:\n",
      "1. AÑO / MES / DÍA\n",
      "2. HORA\n",
      "3. TEMPERATURA (°C)\n",
      "4. PRECIPITACIÓN (mm/hora)\n",
      "5. HUMEDAD (%)\n",
      "6. DIRECCION DEL VIENTO (°)\n",
      "7. VELOCIDAD DEL VIENTO (m/s)\n"
     ]
    }
   ],
   "source": [
    "# Ejemplo 1: Seleccionar UNA columna (el resultado es una Serie)\n",
    "# Cambia 'nombre_columna' por el nombre real de tu columna\n",
    "# Por ejemplo, si tienes una columna de temperatura, usa ese nombre\n",
    "\n",
    "# Primero, veamos qué columnas tenemos disponibles\n",
    "print(\"Columnas disponibles en el dataset:\")\n",
    "for i, col in enumerate(df.columns, 1):\n",
    "    print(f\"{i}. {col}\")\n"
   ]
  },
  {
   "cell_type": "code",
   "execution_count": 124,
   "id": "0619f102",
   "metadata": {},
   "outputs": [
    {
     "name": "stdout",
     "output_type": "stream",
     "text": [
      "🔹 Datos de la columna 'TEMPERATURA (°C)':\n",
      "0    16.0\n",
      "1    15.9\n",
      "2    16.1\n",
      "3    15.8\n",
      "4    15.6\n",
      "5    15.7\n",
      "6    15.6\n",
      "7    15.5\n",
      "8    16.0\n",
      "9    16.6\n",
      "Name: TEMPERATURA (°C), dtype: float64\n"
     ]
    }
   ],
   "source": [
    "# Ejemplo 2: Seleccionar una columna específica\n",
    "# Reemplaza 'primera_columna' con el nombre real de tu columna\n",
    "primera_columna = df.columns[2]  # Toma la primera columna automáticamente\n",
    "\n",
    "print(f\"🔹 Datos de la columna '{primera_columna}':\")\n",
    "print(df[primera_columna].head(10))\n"
   ]
  },
  {
   "cell_type": "code",
   "execution_count": 128,
   "id": "cb7bcc2a",
   "metadata": {},
   "outputs": [
    {
     "name": "stdout",
     "output_type": "stream",
     "text": [
      "🔹 Seleccionando columnas: ['TEMPERATURA (°C)']\n",
      "   TEMPERATURA (°C)\n",
      "0              16.0\n",
      "1              15.9\n",
      "2              16.1\n",
      "3              15.8\n",
      "4              15.6\n"
     ]
    }
   ],
   "source": [
    "# Ejemplo 3: Seleccionar VARIAS columnas (el resultado es un DataFrame)\n",
    "# Seleccionemos las primeras 3 columnas\n",
    "columnas_seleccionadas = df.columns[2:3].tolist()\n",
    "\n",
    "print(f\"🔹 Seleccionando columnas: {columnas_seleccionadas}\")\n",
    "df_subset = df[columnas_seleccionadas]\n",
    "print(df_subset.head())\n"
   ]
  },
  {
   "cell_type": "markdown",
   "id": "727cb537",
   "metadata": {},
   "source": [
    "### 📊 Funciones Estadísticas Disponibles\n",
    "\n",
    "Pandas ofrece múltiples funciones para calcular estadísticas sobre columnas numéricas:\n",
    "\n",
    "| Función | Descripción | Ejemplo |\n",
    "|---------|-------------|---------|\n",
    "| `.mean()` | Promedio (media aritmética) | `df['temperatura'].mean()` |\n",
    "| `.median()` | Mediana (valor central) | `df['temperatura'].median()` |\n",
    "| `.mode()` | Moda (valor más frecuente) | `df['temperatura'].mode()` |\n",
    "| `.std()` | Desviación estándar | `df['temperatura'].std()` |\n",
    "| `.var()` | Varianza | `df['temperatura'].var()` |\n",
    "| `.min()` | Valor mínimo | `df['temperatura'].min()` |\n",
    "| `.max()` | Valor máximo | `df['temperatura'].max()` |\n",
    "| `.sum()` | Suma total | `df['temperatura'].sum()` |\n",
    "| `.count()` | Cantidad de valores no nulos | `df['temperatura'].count()` |\n",
    "| `.quantile(0.25)` | Percentil 25 (Q1) | `df['temperatura'].quantile(0.25)` |\n",
    "| `.quantile(0.75)` | Percentil 75 (Q3) | `df['temperatura'].quantile(0.75)` |\n",
    "\n",
    "### 🔥 Las más usadas:\n",
    "- **`.mean()`** - Para promedios\n",
    "- **`.median()`** - Menos sensible a valores extremos\n",
    "- **`.std()`** - Medir dispersión de datos\n",
    "- **`.min()` / `.max()`** - Rangos de valores"
   ]
  },
  {
   "cell_type": "code",
   "execution_count": 129,
   "id": "ff7398c0",
   "metadata": {},
   "outputs": [
    {
     "name": "stdout",
     "output_type": "stream",
     "text": [
      "🔹 Filtrado de datos donde 'TEMPERATURA (°C)' > 19.17 (promedio)\n",
      "Filas que cumplen la condición: 19756\n",
      "    AÑO / MES / DÍA   HORA  TEMPERATURA (°C)  PRECIPITACIÓN (mm/hora)  \\\n",
      "10       2020/10/01  10:00              19.6                      0.0   \n",
      "108      2020/10/05  12:00              19.6                      0.0   \n",
      "109      2020/10/05  13:00              19.6                      0.0   \n",
      "110      2020/10/05  14:00              19.4                      0.0   \n",
      "111      2020/10/05  15:00              20.3                      0.0   \n",
      "\n",
      "     HUMEDAD (%)  DIRECCION DEL VIENTO (°)  VELOCIDAD DEL VIENTO (m/s)  \n",
      "10          75.0                     217.0                         1.1  \n",
      "108         66.0                     292.0                         1.1  \n",
      "109         66.0                     220.0                         1.4  \n",
      "110         65.0                     182.0                         1.4  \n",
      "111         62.0                     235.0                         1.0  \n"
     ]
    }
   ],
   "source": [
    "# Ejemplo 4: Filtrar filas con condiciones\n",
    "# Vamos a identificar si hay columnas numéricas para hacer filtros\n",
    "\n",
    "columnas_numericas = df.select_dtypes(include=[np.number]).columns.tolist()\n",
    "\n",
    "if len(columnas_numericas) > 0:\n",
    "    # Tomamos la primera columna numérica\n",
    "    col_numerica = columnas_numericas[0]\n",
    "    \n",
    "    # Calculamos el promedio\n",
    "    promedio = df[col_numerica].mean()\n",
    "    \n",
    "    print(f\"🔹 Filtrado de datos donde '{col_numerica}' > {promedio:.2f} (promedio)\")\n",
    "    df_filtrado = df[df[col_numerica] > promedio]\n",
    "    print(f\"Filas que cumplen la condición: {len(df_filtrado)}\")\n",
    "    print(df_filtrado.head())\n",
    "else:\n",
    "    print(\"No se encontraron columnas numéricas para filtrar\")\n"
   ]
  },
  {
   "cell_type": "markdown",
   "id": "5f05be9d",
   "metadata": {},
   "source": [
    "## 📊 Parte 5: Visualizaciones Básicas con Matplotlib\n",
    "\n",
    "Ahora vamos a crear nuestros primeros gráficos:\n",
    "\n",
    "### 🎨 ¿Qué es Matplotlib?\n",
    "**Matplotlib** es la librería más popular para crear gráficos estáticos en Python. Es como el \"Excel de gráficos\" para programadores.\n",
    "\n",
    "### 📌 Tipos de gráficos que veremos:\n",
    "1. **Líneas** - Para ver tendencias a lo largo del tiempo\n",
    "2. **Barras** - Para comparar valores entre categorías\n",
    "3. **Histogramas** - Para ver distribución de datos\n",
    "4. **Múltiples series** - Para comparar variables\n",
    "\n",
    "### 💡 Componentes básicos:\n",
    "- `plt.figure()` - Crear el lienzo del gráfico\n",
    "- `plt.plot()` / `plt.bar()` / `plt.hist()` - Tipo de gráfico\n",
    "- `plt.title()`, `plt.xlabel()`, `plt.ylabel()` - Etiquetas\n",
    "- `plt.grid()` - Cuadrícula\n",
    "- `plt.show()` - Mostrar el gráfico"
   ]
  },
  {
   "cell_type": "code",
   "execution_count": 130,
   "id": "2fa78ef9",
   "metadata": {},
   "outputs": [
    {
     "data": {
      "image/png": "[encoded data removed]",
      "text/plain": [
       "<Figure size 1200x500 with 1 Axes>"
      ]
     },
     "metadata": {},
     "output_type": "display_data"
    }
   ],
   "source": [
    "# Gráfico 1: Gráfico de líneas simple\n",
    "if len(columnas_numericas) > 0:\n",
    "    col_graficar = columnas_numericas[0]\n",
    "    \n",
    "    plt.figure(figsize=(12, 5))\n",
    "    plt.plot(df[col_graficar].head(50), marker='o', linestyle='-', linewidth=2, markersize=4)\n",
    "    plt.title(f'Gráfico de Líneas - {col_graficar}', fontsize=14, fontweight='bold')\n",
    "    plt.xlabel('Índice', fontsize=12)\n",
    "    plt.ylabel(col_graficar, fontsize=12)\n",
    "    plt.grid(True, alpha=0.3)\n",
    "    plt.tight_layout()\n",
    "    plt.show()\n",
    "else:\n",
    "    print(\"No hay columnas numéricas para graficar\")\n"
   ]
  },
  {
   "cell_type": "code",
   "execution_count": 131,
   "id": "91482534",
   "metadata": {},
   "outputs": [
    {
     "data": {
      "image/png": "[encoded data removed]",
      "text/plain": [
       "<Figure size 1200x500 with 1 Axes>"
      ]
     },
     "metadata": {},
     "output_type": "display_data"
    }
   ],
   "source": [
    "# Gráfico 2: Gráfico de barras\n",
    "if len(columnas_numericas) > 0:\n",
    "    # Tomamos solo las primeras 20 filas para que se vea mejor\n",
    "    datos_barras = df[col_graficar].head(20)\n",
    "    \n",
    "    plt.figure(figsize=(12, 5))\n",
    "    plt.bar(range(len(datos_barras)), datos_barras, color='steelblue', edgecolor='black')\n",
    "    plt.title(f'Gráfico de Barras - {col_graficar}', fontsize=14, fontweight='bold')\n",
    "    plt.xlabel('Índice', fontsize=12)\n",
    "    plt.ylabel(col_graficar, fontsize=12)\n",
    "    plt.grid(True, alpha=0.3, axis='y')\n",
    "    plt.tight_layout()\n",
    "    plt.show()\n",
    "else:\n",
    "    print(\"No hay columnas numéricas para graficar\")\n"
   ]
  },
  {
   "cell_type": "code",
   "execution_count": 132,
   "id": "dba9b7e5",
   "metadata": {},
   "outputs": [
    {
     "data": {
      "image/png": "[encoded data removed]",
      "text/plain": [
       "<Figure size 1200x500 with 1 Axes>"
      ]
     },
     "metadata": {},
     "output_type": "display_data"
    }
   ],
   "source": [
    "# Gráfico 3: Histograma (distribución de valores)\n",
    "if len(columnas_numericas) > 0:\n",
    "    plt.figure(figsize=(12, 5))\n",
    "    plt.hist(df[col_graficar].dropna(), bins=30, color='coral', edgecolor='black', alpha=0.7)\n",
    "    plt.title(f'Histograma - Distribución de {col_graficar}', fontsize=14, fontweight='bold')\n",
    "    plt.xlabel(col_graficar, fontsize=12)\n",
    "    plt.ylabel('Frecuencia', fontsize=12)\n",
    "    plt.grid(True, alpha=0.3, axis='y')\n",
    "    plt.tight_layout()\n",
    "    plt.show()\n",
    "else:\n",
    "    print(\"No hay columnas numéricas para graficar\")\n"
   ]
  },
  {
   "cell_type": "code",
   "execution_count": 133,
   "id": "3a8344af",
   "metadata": {},
   "outputs": [
    {
     "data": {
      "image/png": "[encoded data removed]",
      "text/plain": [
       "<Figure size 1400x600 with 1 Axes>"
      ]
     },
     "metadata": {},
     "output_type": "display_data"
    }
   ],
   "source": [
    "# Gráfico 4: Comparación de múltiples columnas\n",
    "if len(columnas_numericas) >= 2:\n",
    "    plt.figure(figsize=(14, 6))\n",
    "    \n",
    "    # Graficar las primeras 2 columnas numéricas\n",
    "    for i, col in enumerate(columnas_numericas[:2]):\n",
    "        plt.plot(df[col].head(50), marker='o', linestyle='-', linewidth=2, \n",
    "                markersize=4, label=col, alpha=0.8)\n",
    "    \n",
    "    plt.title('Comparación de Variables', fontsize=14, fontweight='bold')\n",
    "    plt.xlabel('Índice', fontsize=12)\n",
    "    plt.ylabel('Valores', fontsize=12)\n",
    "    plt.legend(fontsize=10)\n",
    "    plt.grid(True, alpha=0.3)\n",
    "    plt.tight_layout()\n",
    "    plt.show()\n",
    "else:\n",
    "    print(\"Se necesitan al menos 2 columnas numéricas para comparar\")\n"
   ]
  },
  {
   "cell_type": "markdown",
   "id": "52277f73",
   "metadata": {},
   "source": [
    "## 📈 Parte 6: Uso del método .plot() de Pandas\n",
    "\n",
    "Pandas tiene su propia forma simplificada de crear gráficos:\n",
    "\n",
    "### 🔄 Diferencia entre Matplotlib y Pandas .plot()\n",
    "| Aspecto | Matplotlib | Pandas .plot() |\n",
    "|---------|-----------|----------------|\n",
    "| **Sintaxis** | Más verbosa | Más concisa |\n",
    "| **Control** | Total control | Control limitado pero rápido |\n",
    "| **Uso** | Gráficos personalizados | Exploración rápida |\n",
    "\n",
    "### 💡 Ventajas de .plot():\n",
    "- ✅ **Menos código** - Una línea vs varias\n",
    "- ✅ **Más rápido** - Ideal para exploración\n",
    "- ✅ **Integrado** - Directamente desde DataFrame/Serie\n",
    "- ✅ **Automático** - Maneja índices y etiquetas\n",
    "\n",
    "### 📌 Sintaxis básica:\n",
    "```python\n",
    "df['columna'].plot(kind='tipo', opciones...)\n",
    "```\n",
    "\n",
    "**Tipos disponibles:** `'line'`, `'bar'`, `'hist'`, `'box'`, `'scatter'`, `'pie'`"
   ]
  },
  {
   "cell_type": "code",
   "execution_count": null,
   "id": "d0979f21",
   "metadata": {},
   "outputs": [
    {
     "data": {
      "image/png": "[encoded data removed]",
      "text/plain": [
       "<Figure size 1200x500 with 1 Axes>"
      ]
     },
     "metadata": {},
     "output_type": "display_data"
    }
   ],
   "source": [
    "# Método 1: Gráfico de líneas con Pandas\n",
    "if len(columnas_numericas) > 0:\n",
    "    df[col_graficar].head(50).plot(kind='line',\n",
    "                                    figsize=(12, 5), \n",
    "                                    title=f'Gráfico con Pandas - {col_graficar}',\n",
    "                                    color='darkgreen',\n",
    "                                    linewidth=2,\n",
    "                                    grid=True)\n",
    "    plt.ylabel(col_graficar)\n",
    "    plt.xlabel('Índice')\n",
    "    plt.tight_layout()\n",
    "    plt.show()\n"
   ]
  },
  {
   "cell_type": "code",
   "execution_count": 135,
   "id": "1a2ee59c",
   "metadata": {},
   "outputs": [
    {
     "data": {
      "image/png": "[encoded data removed]",
      "text/plain": [
       "<Figure size 1200x500 with 1 Axes>"
      ]
     },
     "metadata": {},
     "output_type": "display_data"
    }
   ],
   "source": [
    "# Método 2: Gráfico de barras con Pandas\n",
    "if len(columnas_numericas) > 0:\n",
    "    df[col_graficar].head(20).plot(kind='bar', \n",
    "                                    figsize=(12, 5), \n",
    "                                    title=f'Gráfico de Barras con Pandas - {col_graficar}',\n",
    "                                    color='teal',\n",
    "                                    edgecolor='black',\n",
    "                                    grid=True)\n",
    "    plt.ylabel(col_graficar)\n",
    "    plt.xlabel('Índice')\n",
    "    plt.xticks(rotation=45)\n",
    "    plt.tight_layout()\n",
    "    plt.show()\n"
   ]
  },
  {
   "cell_type": "markdown",
   "id": "19962274",
   "metadata": {},
   "source": [
    "## 📋 Resumen de Comandos Importantes\n",
    "\n",
    "Esta es tu **hoja de referencia rápida** con los comandos más usados en análisis de datos con Pandas.\n",
    "\n",
    "---\n",
    "\n",
    "### 📂 1. Cargar Datos\n",
    "```python\n",
    "# CSV\n",
    "df = pd.read_csv('archivo.csv')\n",
    "df = pd.read_csv('archivo.csv', sep=';')           # Delimitador diferente\n",
    "df = pd.read_csv('archivo.csv', encoding='utf-8')  # Codificación\n",
    "\n",
    "# Excel\n",
    "df = pd.read_excel('archivo.xlsx')\n",
    "df = pd.read_excel('archivo.xlsx', sheet_name='Hoja1')  # Hoja específica\n",
    "df = pd.read_excel('archivo.xlsx', nrows=100)            # Solo primeras 100 filas\n",
    "```\n",
    "\n",
    "---\n",
    "\n",
    "### 🔍 2. Explorar Datos\n",
    "```python\n",
    "df.head()              # Primeras 5 filas\n",
    "df.head(10)            # Primeras 10 filas\n",
    "df.tail()              # Últimas 5 filas\n",
    "df.info()              # Información general (tipos, nulos)\n",
    "df.describe()          # Estadísticas (promedio, min, max, etc.)\n",
    "df.columns             # Nombres de columnas\n",
    "df.shape               # (filas, columnas)\n",
    "df.dtypes              # Tipos de datos de cada columna\n",
    "df.isnull().sum()      # Contar valores nulos por columna\n",
    "```\n",
    "\n",
    "---\n",
    "\n",
    "### 🎯 3. Seleccionar y Filtrar Datos\n",
    "```python\n",
    "# Seleccionar columnas\n",
    "df['columna']                      # Una columna (Serie)\n",
    "df[['col1', 'col2']]               # Varias columnas (DataFrame)\n",
    "\n",
    "# Filtrar filas\n",
    "df[df['temperatura'] > 25]         # Filas donde temperatura > 25\n",
    "df[df['ciudad'] == 'Lima']         # Filas donde ciudad es Lima\n",
    "df[(df['temp'] > 20) & (df['temp'] < 30)]  # Múltiples condiciones\n",
    "\n",
    "# Primeras/últimas N filas de una columna\n",
    "df['columna'].head(10)\n",
    "```\n",
    "\n",
    "---\n",
    "\n",
    "### 🔧 4. Limpiar y Transformar Datos\n",
    "```python\n",
    "# Convertir tipos de datos\n",
    "df['columna'] = pd.to_numeric(df['columna'], errors='coerce')\n",
    "df['fecha'] = pd.to_datetime(df['fecha'])\n",
    "df['categoria'] = df['categoria'].astype('category')\n",
    "\n",
    "# Eliminar valores nulos\n",
    "df.dropna()                        # Eliminar filas con nulos\n",
    "df.fillna(0)                       # Rellenar nulos con 0\n",
    "df['col'].fillna(df['col'].mean()) # Rellenar con promedio\n",
    "```\n",
    "\n",
    "---\n",
    "\n",
    "### 📊 5. Visualizar Datos\n",
    "\n",
    "**Con Matplotlib:**\n",
    "```python\n",
    "plt.plot(df['columna'])            # Gráfico de líneas\n",
    "plt.bar(x, y)                      # Gráfico de barras\n",
    "plt.hist(df['columna'], bins=30)   # Histograma\n",
    "plt.scatter(x, y)                  # Dispersión\n",
    "plt.show()                         # Mostrar gráfico\n",
    "```\n",
    "\n",
    "**Con Pandas .plot():**\n",
    "```python\n",
    "df['columna'].plot()               # Líneas (por defecto)\n",
    "df['columna'].plot.bar()           # Barras\n",
    "df['columna'].plot.hist()          # Histograma\n",
    "df['columna'].plot.box()           # Caja y bigotes\n",
    "df.plot(x='col1', y='col2')        # X vs Y\n",
    "```\n",
    "\n",
    "---\n",
    "\n",
    "### 💾 6. Guardar Datos\n",
    "```python\n",
    "df.to_csv('salida.csv', index=False)              # CSV\n",
    "df.to_excel('salida.xlsx', index=False)           # Excel\n",
    "df.to_excel('salida.xlsx', sheet_name='Datos')    # Excel con nombre de hoja\n",
    "df.to_json('salida.json')                         # JSON\n",
    "```\n",
    "\n",
    "---\n",
    "\n",
    "### 🔥 7. Funciones Útiles Adicionales\n",
    "```python\n",
    "df.sort_values('columna')          # Ordenar por columna\n",
    "df.groupby('categoria').mean()     # Agrupar y promediar\n",
    "df['columna'].unique()             # Valores únicos\n",
    "df['columna'].value_counts()       # Contar frecuencias\n",
    "df.rename(columns={'old': 'new'})  # Renombrar columnas\n",
    "df.drop('columna', axis=1)         # Eliminar columna\n",
    "df.drop([0, 1, 2])                 # Eliminar filas por índice\n",
    "```\n",
    "\n",
    "---\n",
    "\n",
    "### 💡 Tip Final\n",
    "**Guarda este resumen como referencia.** Estos comandos cubren el 80% del trabajo diario con datos.\n"
   ]
  },
  {
   "cell_type": "code",
   "execution_count": null,
   "id": "cbb3d04b",
   "metadata": {},
   "outputs": [],
   "source": []
  }
 ],
 "metadata": {
  "kernelspec": {
   "display_name": "Python 3",
   "language": "python",
   "name": "python3"
  },
  "language_info": {
   "codemirror_mode": {
    "name": "ipython",
    "version": 3
   },
   "file_extension": ".py",
   "mimetype": "text/x-python",
   "name": "python",
   "nbconvert_exporter": "python",
   "pygments_lexer": "ipython3",
   "version": "3.12.3"
  }
 },
 "nbformat": 4,
 "nbformat_minor": 5
}
